{
 "cells": [
  {
   "cell_type": "markdown",
   "metadata": {},
   "source": [
    "# Exercise 2: numpy"
   ]
  },
  {
   "cell_type": "code",
   "execution_count": 1,
   "metadata": {},
   "outputs": [],
   "source": [
    "import numpy as np"
   ]
  },
  {
   "cell_type": "markdown",
   "metadata": {},
   "source": [
    "## Problem 1: \n",
    "\n",
    "Compute\n",
    "$$\n",
    "   \\left[ \\begin{array}{ccc}\n",
    "   3 &  2 & 1 \\\\\n",
    "   6 & -3 & 0 \\\\\n",
    "   1 &  2 & 9 \\\\\n",
    "   \\end{array} \\right]\n",
    "   \\left[ \\begin{array}{ccc}\n",
    "   -4 & 1 \\\\\n",
    "    7 & 3 \\\\\n",
    "    2 & 5 \\\\\n",
    "   \\end{array} \\right]\n",
    "$$\n",
    "using **matrix** objects"
   ]
  },
  {
   "cell_type": "code",
   "execution_count": 5,
   "metadata": {},
   "outputs": [
    {
     "name": "stdout",
     "output_type": "stream",
     "text": [
      "[[  4  14]\n",
      " [-45  -3]\n",
      " [ 28  52]]\n"
     ]
    }
   ],
   "source": [
    "################\n",
    "# your solution\n",
    "################\n",
    "\n",
    "A = np.matrix([[3,2,1],[6,-3,0],[1,2,9]])\n",
    "B = np.matrix([[-4,1],[7,3],[2,5]])\n",
    "C = A*B\n",
    "\n",
    "print(C)"
   ]
  },
  {
   "cell_type": "markdown",
   "metadata": {},
   "source": [
    "Compute\n",
    "$$\n",
    "   \\left[ \\begin{array}{ccc}\n",
    "   3 &  2 & 1 \\\\\n",
    "   6 & -3 & 0 \\\\\n",
    "   1 &  2 & 9 \\\\\n",
    "   \\end{array} \\right]\n",
    "   \\left[ \\begin{array}{ccc}\n",
    "   -4 & 1 \\\\\n",
    "    7 & 3 \\\\\n",
    "    2 & 5 \\\\\n",
    "   \\end{array} \\right]\n",
    "$$\n",
    "using **array** objects"
   ]
  },
  {
   "cell_type": "code",
   "execution_count": 8,
   "metadata": {},
   "outputs": [
    {
     "name": "stdout",
     "output_type": "stream",
     "text": [
      "[[  4  14]\n",
      " [-45  -3]\n",
      " [ 28  52]]\n"
     ]
    }
   ],
   "source": [
    "D = np.array(A)\n",
    "E = np.array(B)\n",
    "F = A@B\n",
    "\n",
    "print(F)"
   ]
  },
  {
   "cell_type": "markdown",
   "metadata": {},
   "source": [
    "## Problem 2: \n",
    "\n",
    "Numpy provides random number generators for different distributions.\n",
    "You can find simple examples at [https://numpy.org/doc/stable/reference/random/index.html](https://numpy.org/doc/stable/reference/random/index.html)\n",
    "\n",
    "1. Write a function that outputs a list of 250 numbers in a normal distribution with (approximately) mean of 2.5 and standard deviation of 0.75. (check [https://numpy.org/doc/stable/reference/random/generated/numpy.random.normal.html#numpy.random.normal](https://numpy.org/doc/stable/reference/random/generated/numpy.random.normal.html#numpy.random.normal))\n",
    "2. Write a loop that uses this function to create 10 instances of such lists. Compute the actual mean and standard deviation and print them.\n",
    "3. Verify that the answers are indeed random by running your code multiple times."
   ]
  },
  {
   "cell_type": "code",
   "execution_count": 35,
   "metadata": {},
   "outputs": [
    {
     "name": "stdout",
     "output_type": "stream",
     "text": [
      "avg=    2.51, std=    0.76\n",
      "avg=    2.50, std=    0.72\n",
      "avg=    2.55, std=    0.71\n",
      "avg=    2.48, std=    0.76\n",
      "avg=    2.47, std=    0.77\n",
      "avg=    2.49, std=    0.82\n",
      "avg=    2.50, std=    0.72\n",
      "avg=    2.46, std=    0.80\n",
      "avg=    2.46, std=    0.76\n",
      "avg=    2.45, std=    0.74\n"
     ]
    }
   ],
   "source": [
    "################\n",
    "# your solution\n",
    "################\n",
    "\n",
    "def normdist():\n",
    "    return np.random.normal(2.5,0.75,250)\n",
    "\n",
    "for i in range(10):\n",
    "    data = normdist()\n",
    "    print('avg={:8.2f}, std={:8.2f}'.format(np.mean(data),np.std(data)))"
   ]
  },
  {
   "cell_type": "markdown",
   "metadata": {},
   "source": [
    "## Problem 3: \n",
    "\n",
    "1. Compute and print the eigenvalues, $\\lambda_i$, and eigenvectors, ${\\bf n}_i$, of\n",
    "$$\n",
    "   {\\bf A} =\n",
    "   \\left[ \\begin{array}{ccccc}\n",
    "   3 & 2 & 1 & 0 & 0 \\\\\n",
    "   2 & 3 & 2 & 1 & 0 \\\\\n",
    "   1 & 2 & 3 & 2 & 1 \\\\\n",
    "   0 & 1 & 2 & 3 & 2 \\\\\n",
    "   0 & 0 & 1 & 2 & 3 \n",
    "   \\end{array} \\right]\n",
    "$$\n",
    "2. Show that\n",
    "$$\n",
    "   {\\rm det}({\\bf A}) = \\prod_{i=1}^5 \\lambda_i\n",
    "$$\n",
    "3. Verify the following relation\n",
    "$$\n",
    "   {\\bf A} = \\sum_{i=1}^{5} \\lambda_i\\,{\\bf n}_i\\otimes{\\bf n}_i\n",
    "$$"
   ]
  },
  {
   "cell_type": "code",
   "execution_count": null,
   "metadata": {},
   "outputs": [],
   "source": [
    "################\n",
    "# your solution\n",
    "################\n"
   ]
  }
 ],
 "metadata": {
  "kernelspec": {
   "display_name": "Python 3",
   "language": "python",
   "name": "python3"
  },
  "language_info": {
   "codemirror_mode": {
    "name": "ipython",
    "version": 3
   },
   "file_extension": ".py",
   "mimetype": "text/x-python",
   "name": "python",
   "nbconvert_exporter": "python",
   "pygments_lexer": "ipython3",
   "version": "3.7.6"
  }
 },
 "nbformat": 4,
 "nbformat_minor": 4
}
